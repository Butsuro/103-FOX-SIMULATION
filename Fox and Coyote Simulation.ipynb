{
 "cells": [
  {
   "cell_type": "code",
   "execution_count": 26,
   "id": "747bb8e6",
   "metadata": {},
   "outputs": [
    {
     "name": "stdout",
     "output_type": "stream",
     "text": [
      "[66.72648031 94.8540331 ]   [-0.11712891 -0.99311672]\n"
     ]
    },
    {
     "ename": "TypeError",
     "evalue": "Fox.move() missing 1 required positional argument: 'masterArray'",
     "output_type": "error",
     "traceback": [
      "\u001b[1;31m---------------------------------------------------------------------------\u001b[0m",
      "\u001b[1;31mTypeError\u001b[0m                                 Traceback (most recent call last)",
      "Cell \u001b[1;32mIn[26], line 67\u001b[0m\n\u001b[0;32m     65\u001b[0m     \u001b[38;5;28mprint\u001b[39m(foxAgents[\u001b[38;5;241m0\u001b[39m]\u001b[38;5;241m.\u001b[39mpos, \u001b[38;5;124m\"\u001b[39m\u001b[38;5;124m \u001b[39m\u001b[38;5;124m\"\u001b[39m, foxAgents[\u001b[38;5;241m0\u001b[39m]\u001b[38;5;241m.\u001b[39mdirection)\n\u001b[0;32m     66\u001b[0m     \u001b[38;5;28;01mfor\u001b[39;00m fox \u001b[38;5;129;01min\u001b[39;00m foxAgents:\n\u001b[1;32m---> 67\u001b[0m         \u001b[43mfox\u001b[49m\u001b[38;5;241;43m.\u001b[39;49m\u001b[43mmove\u001b[49m\u001b[43m(\u001b[49m\u001b[43mfoxAgents\u001b[49m\u001b[43m)\u001b[49m\n\u001b[0;32m     68\u001b[0m     sleep(\u001b[38;5;241m1\u001b[39m)\n\u001b[0;32m     69\u001b[0m prnt()\n",
      "\u001b[1;31mTypeError\u001b[0m: Fox.move() missing 1 required positional argument: 'masterArray'"
     ]
    }
   ],
   "source": [
    "import numpy as np\n",
    "import random as rd\n",
    "import math\n",
    "from time import sleep\n",
    "xSize = 100\n",
    "ySize = 100\n",
    "class Fox:\n",
    "    def __init__(self, fox_id, family, size, speed, pos, direction):\n",
    "        self.fox_id = fox_id\n",
    "        self.family = family\n",
    "        self.size = size\n",
    "        self.speed = speed\n",
    "        self.pos = np.array(pos)\n",
    "        self.direction = unitVector(np.array(direction))\n",
    "        \n",
    "    def closestCanid(self, foxList):\n",
    "        lowestDist = None\n",
    "        for fox in foxList:\n",
    "            if fox.fox_id == self.fox_id: continue\n",
    "            if lowestDist is None:\n",
    "                distVector = np.array(fox.pos-self.pos)\n",
    "                lowestDist = np.linalg.norm(distVector)\n",
    "            elif lowestDist > np.linalg.norm(self.pos-fox.pos):\n",
    "                distVector = np.array(fox.pos-self.pos)\n",
    "                lowestDist = np.linalg.norm(distVector)\n",
    "        if lowestDist < 10:\n",
    "            if fox.family == self.family:\n",
    "                distVector = unitVector(distVector)*rd.uniform(1,2)\n",
    "                self.direction = unitVector(self.direction+distVector)\n",
    "            else: self.direction = unitVector(self.direction-distVector)\n",
    "    \n",
    "    def boundaryCheck(self):\n",
    "        if self.pos[0]+self.direction[0] < 0 or self.pos[0]+self.direction[0] > xSize:\n",
    "            self.direction[0] += -1*self.direction[0]*rd.uniform(1,2)\n",
    "        if self.pos[1]+self.direction[1] < 0 or self.pos[1]+self.direction[1] > ySize:\n",
    "            self.direction[1] += -1*self.direction[1]*rd.uniform(1,2)\n",
    "        self.direction = unitVector(self.direction)\n",
    "            \n",
    "    def move(self, foxList, masterArray):\n",
    "        self.closestCanid(foxList)\n",
    "        self.boundaryCheck()\n",
    "        self.pos = self.pos+self.direction\n",
    "        masterArray[round(self.pos[1])][round(self.pos[0])] = fox_id\n",
    "        \n",
    "def unitVector(vector):\n",
    "    if np.linalg.norm(vector) != 1:\n",
    "        vector /= np.linalg.norm(vector)\n",
    "    return vector\n",
    "        \n",
    "foxAgents = []\n",
    "for i in range(30):\n",
    "    randomAngle = rd.uniform(0,6.28)\n",
    "    foxAgents.append(Fox(i,rd.randint(1,2),rd.uniform(1,5),rd.uniform(35,55),(rd.uniform(0,xSize),rd.uniform(0,ySize)),(math.cos(randomAngle),math.sin(randomAngle))))\n",
    "\n",
    "#magn = np.linalg.norm(arr)\n",
    "#print(rd.uniform(1,5))\n",
    "#print(math.cos(math.radians(90)))\n",
    "#for foxAgent in fox:\n",
    "    #print(foxAgent)\n",
    "#for fox in foxAgents:\n",
    "    #print(fox.fox_id, \" \", fox.pos, \" \", fox.direction)\n",
    "    #fox.move(foxAgents)\n",
    "    #print(fox.fox_id, \" \", fox.pos)\n",
    "while(True):\n",
    "    print(foxAgents[0].pos, \" \", foxAgents[0].direction)\n",
    "    for fox in foxAgents:\n",
    "        fox.move(foxAgents)\n",
    "    sleep(1)"
   ]
  },
  {
   "cell_type": "code",
   "execution_count": 29,
   "id": "9ff374b0",
   "metadata": {},
   "outputs": [
    {
     "name": "stdout",
     "output_type": "stream",
     "text": [
      "[]\n",
      "[5, 1]\n",
      "[3, 0]\n",
      "[4, 0]\n",
      "[0, 2]\n",
      "[2, 1]\n"
     ]
    }
   ],
   "source": [
    "numTraps = 5\n",
    "largestValues = []\n",
    "def sortArray(fiveLargest, array2D):\n",
    "    while(True):\n",
    "        swapsMade = 0\n",
    "        for i in range(len(largestValues)-1):\n",
    "            if array2D[fiveLargest[i][1]][fiveLargest[i][0]] > array2D[fiveLargest[i+1][1]][fiveLargest[i+1][0]]:\n",
    "                temp = fiveLargest[i]\n",
    "                fiveLargest[i] = fiveLargest[i+1]\n",
    "                fiveLargest[i+1] = temp\n",
    "                swapsMade += 1\n",
    "        if swapsMade == 0:\n",
    "            break\n",
    "            \n",
    "#largestValues in x,y coordinates of the pen            \n",
    "def findFiveLargest(array2D, arrSizeX, arrSizeY):\n",
    "    for y in range(arrSizeY):\n",
    "        for x in range(arrSizeX):\n",
    "            if len(largestValues) < 5:\n",
    "                largestValues.append([x,y])\n",
    "            else:\n",
    "                sortArray(largestValues, array2D)\n",
    "                if array2D[y][x] > array2D[largestValues[0][1]][largestValues[0][0]]:\n",
    "                    largestValues[0][0] = x\n",
    "                    largestValues[0][1] = y\n",
    "\n",
    "arr1 = [[2,9,4,12,13,1,0], [5,5,20,5,3,11,0], [19,8,8,9,5,3,1]]\n",
    "x = 7\n",
    "y = 3\n",
    "findFiveLargest(arr1, x, y)\n",
    "for coord in largestValues:\n",
    "    print(coord)"
   ]
  },
  {
   "cell_type": "code",
   "execution_count": 24,
   "id": "b05d1240",
   "metadata": {},
   "outputs": [
    {
     "name": "stdout",
     "output_type": "stream",
     "text": [
      "[[[0], [0], [0]], [[0], [0], [0]], [[0], [0], [0]]]\n",
      "1 : 5  \n",
      "2 : 1  3  \n",
      "0 : \n",
      "2 : 2  4  \n",
      "1 : 2  \n",
      "1 : 1  \n",
      "1 : 3  \n",
      "2 : 4  7  \n",
      "1 : 4  \n"
     ]
    }
   ],
   "source": [
    "#trafArr = [[0,0,0],[0,0,0],[0,0,0]]\n",
    "#uniqueArr = [[[0],[0],[0]],[[0],[0],[0]],[[0],[0],[0]]]\n",
    "#print(uniqueArr)\n",
    "#array1 = [[0,1,0], [0,2,0],[3,0,4]]\n",
    "#array2 = [[0,1,0],[2,0,0],[3,4,0]]\n",
    "#array3 = [[5,3,0],[4,2,1],[0,7,0]]\n",
    "#array4 = [[5,3,0],[4,2,1],[0,7,0]]\n",
    "def highTraffic(arr1, arr2, trafficArr, arrSizeX, arrSizeY):\n",
    "    for y in range(arrSizeY):\n",
    "        for x in range(arrSizeX):\n",
    "            if arr2[y][x] > 0 and arr2[y][x] != arr1[y][x]:\n",
    "                trafficArr[y][x] += 1   \n",
    "#highTraffic(array1, array2, trafArr, 3, 3)\n",
    "#print(trafArr)\n",
    "#arr1 = 2D array, uniqueFoxArray = 3D array\n",
    "def uniqueFoxTraffic(arr1, uniqueFoxArray, arrSizeX, arrSizeY):\n",
    "    for y in range(arrSizeY):\n",
    "        for x in range(arrSizeX):\n",
    "            if arr1[y][x] > 0 and arr1[y][x] not in uniqueFoxArray[y][x][1:]:\n",
    "                uniqueFoxArray[y][x][0] += 1\n",
    "                uniqueFoxArray[y][x].append(arr1[y][x])\n",
    "#uniqueFoxTraffic(array1, uniqueArr, 3, 3)\n",
    "#uniqueFoxTraffic(array2, uniqueArr, 3, 3)\n",
    "#uniqueFoxTraffic(array3, uniqueArr, 3, 3)\n",
    "#uniqueFoxTraffic(array4, uniqueArr, 3, 3)\n",
    "#for i in range(3):\n",
    "#    for p in range(3):\n",
    "#        print(uniqueArr[i][p][0], \": \", end = \"\")\n",
    "#        for foxID in uniqueArr[i][p][1:]:\n",
    "#            print(foxID, \" \", end = \"\")\n",
    "#        print(\"\")"
   ]
  },
  {
   "cell_type": "code",
   "execution_count": null,
   "id": "1e6527ab",
   "metadata": {},
   "outputs": [],
   "source": []
  }
 ],
 "metadata": {
  "kernelspec": {
   "display_name": "Python 3 (ipykernel)",
   "language": "python",
   "name": "python3"
  },
  "language_info": {
   "codemirror_mode": {
    "name": "ipython",
    "version": 3
   },
   "file_extension": ".py",
   "mimetype": "text/x-python",
   "name": "python",
   "nbconvert_exporter": "python",
   "pygments_lexer": "ipython3",
   "version": "3.10.9"
  }
 },
 "nbformat": 4,
 "nbformat_minor": 5
}
